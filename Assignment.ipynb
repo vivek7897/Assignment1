{
 "cells": [
  {
   "cell_type": "code",
   "execution_count": null,
   "id": "da840c72-da03-43c5-88a6-0c88bbbdbf3a",
   "metadata": {},
   "outputs": [],
   "source": [
    "Q1= Explain with an example each when to use a for loop and a while loop?\n",
    "\n",
    "Answer= For Loop,\n",
    "        A for Loop is a control flow statement that executes codes for predefined number of \n",
    "        iterations. The keyword used in the control flow ststement is \"For\". When the number of\n",
    "        iterations is already known, the for loop is used.\n",
    "        \n",
    "        Loop is divided into two parts:\n",
    "        1- HEADER- This part specifies thr iteration of the loop. In the header part, the loop variable\n",
    "        is also declared, which tells the body which iteration is being executed.\n",
    "        \n",
    "        2- BODY- The body part contains the ststement executed per iteration.\n",
    "        \n",
    "        (1) The initilization, condition checking, and iteration statements are written at the \n",
    "        beginning of the loop.\n",
    "        (2) it is used only when the number of iterations is known beforehand.\n",
    "        (3) The initilization is done only once, and it is never repeted.\n",
    "        \n",
    "        EXAMPLE- \n",
    "        \n",
    "        "
   ]
  },
  {
   "cell_type": "code",
   "execution_count": 9,
   "id": "2184ab1d-b69a-4f36-93c4-77c099d93b4e",
   "metadata": {},
   "outputs": [
    {
     "name": "stdout",
     "output_type": "stream",
     "text": [
      "Input list elements:\n",
      "10\n",
      "20\n",
      "30\n",
      "40\n",
      "50\n"
     ]
    }
   ],
   "source": [
    "# input list\n",
    "inputList = [10,20,30,40,50]\n",
    "print (\"Input list elements:\")\n",
    "# trsversing through all elements of the list using for loop\n",
    "for element in inputList:\n",
    "    # printing each element of the list\n",
    "    print(element)"
   ]
  },
  {
   "cell_type": "code",
   "execution_count": null,
   "id": "76f618ce-c88d-4b01-bce3-1378a6c9dccd",
   "metadata": {},
   "outputs": [],
   "source": [
    "When should use for loop?\n",
    "\n",
    "The far loop is used when we 'known' the number of iterations, that is , how manay times a ststement\n",
    "must be executed. That is why, when we initilize the for loop, we must define the ending point.\n"
   ]
  },
  {
   "cell_type": "code",
   "execution_count": null,
   "id": "3a0738ec-adc4-474a-add2-c840478781fb",
   "metadata": {},
   "outputs": [],
   "source": [
    "l = [1]\n",
    "for m in l:\n",
    "    print(\"pwskills\")\n",
    "    l. append(m) \n",
    "    # printing infinite type pwskills"
   ]
  },
  {
   "cell_type": "code",
   "execution_count": null,
   "id": "ff5aa8b9-53a3-4a23-a6ac-c7beda00677b",
   "metadata": {},
   "outputs": [],
   "source": [
    "WHILE loop-\n",
    "A loop thsts run a single ststement or a set of ststements for a giving true condition.\n",
    "This loop is represented by keyword \"while.\" When the number of iterations is known, a \"while\" loop is used. \n",
    "The statement is repeted until the boolean value false. Because the condition is tasted at the beginning\n",
    "of a while loop, it is also known as the pre-test loop.\n",
    "\n",
    "(1) The initilization and condition checking are done beginning of the loop.\n",
    "(2)  It is used only when the number of iterations is not known.\n",
    "(3)   If the condition is not mentionrd in the 'while' loop, it result in a compliation error.\n",
    "\n",
    "EXAMPLE\n",
    " "
   ]
  },
  {
   "cell_type": "code",
   "execution_count": null,
   "id": "f7f8353b-2a73-40e0-8195-9a280be6349b",
   "metadata": {},
   "outputs": [],
   "source": [
    "# Initilization a dummy variable with 1\n",
    "i = 1\n",
    "# Iterate until the given condition is true\n",
    "while i < 10:\n",
    "    # printing the current value of the above variable\n",
    "    print(i)\n",
    "    # incrementing the value of i value by 1\n",
    "    i +=1"
   ]
  },
  {
   "cell_type": "code",
   "execution_count": null,
   "id": "27bc2258-ea7e-4208-8a1d-cbfd940d4a31",
   "metadata": {},
   "outputs": [],
   "source": [
    "A while loop is used when the number od iterations is 'unknown.' It is used when we need\n",
    "to end the loop on a condition other than the number of repetitions. It is not necessary to \n",
    "know the condition ahead of time in this case. That is why we can use a boolean expression in the loop's initization.\n"
   ]
  },
  {
   "cell_type": "code",
   "execution_count": null,
   "id": "51f2fd2c-c449-47f2-8ec0-7c27b1eae254",
   "metadata": {},
   "outputs": [],
   "source": [
    "while True:\n",
    "    print(\"pwskills\")\n",
    "    # printing infinite time pwskills"
   ]
  },
  {
   "cell_type": "code",
   "execution_count": null,
   "id": "a78d1b6a-a32d-472b-ab64-2170c1edc428",
   "metadata": {},
   "outputs": [],
   "source": [
    "\n",
    "Q2 == Write a python program to print the sum and product of the first 10 natural number\n",
    "using for and while loop?"
   ]
  },
  {
   "cell_type": "code",
   "execution_count": null,
   "id": "6ff6e07c-49ee-4dbf-ba8f-656953fcc33d",
   "metadata": {},
   "outputs": [],
   "source": [
    "# input Natural number\n",
    "number = int(input(\"Enter the Natural Number:\"))\n",
    "\n",
    "# j ranges from 1 to n\n",
    "for j in range (1, number+1):\n",
    "    \n",
    "    # initilization List\n",
    "    a =[]\n",
    "    \n",
    "    # i loop ranges from 1 to j\n",
    "    for i in range (1, j+1):\n",
    "        print(i, sep=\" \", end=\" \")\n",
    "        if(i < j):\n",
    "            print(\"+\", sep=\" \", end=\" \")\n",
    "            a.append(i)\n",
    "        print(\"=\",sum(a))\n",
    "        print()"
   ]
  },
  {
   "cell_type": "code",
   "execution_count": null,
   "id": "0e174872-ce3b-4eb1-9bcb-abc67ac2b392",
   "metadata": {},
   "outputs": [],
   "source": []
  },
  {
   "cell_type": "code",
   "execution_count": null,
   "id": "9b20c5c7-78f9-476f-b1b6-88331b9d1788",
   "metadata": {},
   "outputs": [],
   "source": [
    "Q4= Crete a list of number from 1 to 100. use for loop and while loop to calculate the cube of each number\n",
    "and if the cube of that number is divisible by 4 and 5 then append that number in a list and print that list ?"
   ]
  },
  {
   "cell_type": "code",
   "execution_count": null,
   "id": "c0458724-b694-4889-9042-298a6f1b0e68",
   "metadata": {},
   "outputs": [],
   "source": [
    "print 1 to 100 in python iusing For loop."
   ]
  },
  {
   "cell_type": "code",
   "execution_count": null,
   "id": "5e59b0a3-c690-4dc7-8cad-19ecd2500405",
   "metadata": {},
   "outputs": [],
   "source": [
    "# python program to print numbers from 1 to 100\n",
    "\n",
    "print(' Numbers from 1 to 100:')\n",
    "for n in range (1,100):\n",
    "    print(n, end= ' ')"
   ]
  },
  {
   "cell_type": "code",
   "execution_count": null,
   "id": "5ac50803-cc04-4843-bfb1-720be5c04f5d",
   "metadata": {},
   "outputs": [],
   "source": [
    "Python program for while loop\n"
   ]
  },
  {
   "cell_type": "code",
   "execution_count": null,
   "id": "0e58e996-14e2-412e-badc-8555ab3fdd66",
   "metadata": {},
   "outputs": [],
   "source": [
    "# pyrhon program to print numbers from 1 to 100\n",
    "\n",
    "print('Numbers from 1 to 100:')\n",
    "n=1\n",
    "while n <= 100:\n",
    "    print(n, end= ' ' )\n",
    "    n= n+1"
   ]
  },
  {
   "cell_type": "code",
   "execution_count": null,
   "id": "dd5752d3-93be-452e-a954-6747fcf70134",
   "metadata": {},
   "outputs": [],
   "source": [
    "Q5= write a program to filter count vowels in the below - given string.\n",
    "  string= \" i want to become a data scientist\""
   ]
  },
  {
   "cell_type": "code",
   "execution_count": null,
   "id": "b3e195b1-a7f9-466c-b536-93db4b76c3ac",
   "metadata": {},
   "outputs": [],
   "source": [
    "def isVowel(ch):\n",
    "    return ch.upper() in [ \"i want to become a data scientist\"]\n",
    "def countVowels(str):\n",
    "    count= 0\n",
    "    for i in range(len(str)):\n",
    "        if isVowel (str[i]):\n",
    "            count += 1\n",
    "            str = 'i want become a dats science'"
   ]
  },
  {
   "cell_type": "code",
   "execution_count": null,
   "id": "4e2c9f2a-dfc6-49dc-ac9e-e55382c46676",
   "metadata": {},
   "outputs": [],
   "source": []
  }
 ],
 "metadata": {
  "kernelspec": {
   "display_name": "Python 3 (ipykernel)",
   "language": "python",
   "name": "python3"
  },
  "language_info": {
   "codemirror_mode": {
    "name": "ipython",
    "version": 3
   },
   "file_extension": ".py",
   "mimetype": "text/x-python",
   "name": "python",
   "nbconvert_exporter": "python",
   "pygments_lexer": "ipython3",
   "version": "3.10.8"
  }
 },
 "nbformat": 4,
 "nbformat_minor": 5
}
